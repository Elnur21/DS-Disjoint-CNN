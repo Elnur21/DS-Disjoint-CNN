{
 "cells": [
  {
   "cell_type": "code",
   "execution_count": 2,
   "metadata": {},
   "outputs": [],
   "source": [
    "import pandas as pd"
   ]
  },
  {
   "cell_type": "code",
   "execution_count": 7,
   "metadata": {},
   "outputs": [
    {
     "name": "stdout",
     "output_type": "stream",
     "text": [
      "original:  97.93\n",
      "custom:  96.0\n"
     ]
    }
   ],
   "source": [
    "original, custom = 0, 0\n",
    "for i in range(1,6):\n",
    "    r1= pd.read_csv(f\"Results_Disjoint_CNN/ArticularyWordRecognition/{i}/df_metrics.csv\")\n",
    "    original+=r1[\"accuracy\"][0]\n",
    "    r2= pd.read_csv(f\"Results_Custom_Disjoint_CNN/ArticularyWordRecognition/{i}/df_metrics.csv\")\n",
    "    custom+=r2[\"accuracy\"][0]\n",
    "\n",
    "original, custom = original/5, custom/5\n",
    "\n",
    "print(\"original: \", round(original*100, 2))\n",
    "print(\"custom: \", round(custom*100, 2))"
   ]
  },
  {
   "cell_type": "code",
   "execution_count": 2,
   "metadata": {},
   "outputs": [
    {
     "name": "stdout",
     "output_type": "stream",
     "text": [
      "original:  97.93\n",
      "custom:  98.0\n"
     ]
    }
   ],
   "source": [
    "original, custom = 0, 0\n",
    "for i in range(1,6):\n",
    "    r1= pd.read_csv(f\"Results_Disjoint_CNN/ArticularyWordRecognition/{i}/df_metrics.csv\")\n",
    "    original+=r1[\"accuracy\"][0]\n",
    "    r2= pd.read_csv(f\"Results_Custom_Disjoint_CNN/ArticularyWordRecognition/{i}/df_metrics.csv\")\n",
    "    custom+=r2[\"accuracy\"][0]\n",
    "\n",
    "original, custom = original/5, custom/5\n",
    "\n",
    "print(\"original: \", round(original*100, 2))\n",
    "print(\"custom: \", round(custom*100, 2))"
   ]
  },
  {
   "cell_type": "code",
   "execution_count": 3,
   "metadata": {},
   "outputs": [
    {
     "name": "stdout",
     "output_type": "stream",
     "text": [
      "original:  97.93\n",
      "custom:  98.47\n"
     ]
    }
   ],
   "source": [
    "original, custom = 0, 0\n",
    "for i in range(1,6):\n",
    "    r1= pd.read_csv(f\"Results_Disjoint_CNN/ArticularyWordRecognition/{i}/df_metrics.csv\")\n",
    "    original+=r1[\"accuracy\"][0]\n",
    "    r2= pd.read_csv(f\"Results_Custom_Disjoint_CNN/ArticularyWordRecognition/{i}/df_metrics.csv\")\n",
    "    custom+=r2[\"accuracy\"][0]\n",
    "\n",
    "original, custom = original/5, custom/5\n",
    "\n",
    "print(\"original: \", round(original*100, 2))\n",
    "print(\"custom: \", round(custom*100, 2))"
   ]
  }
 ],
 "metadata": {
  "kernelspec": {
   "display_name": "env",
   "language": "python",
   "name": "python3"
  },
  "language_info": {
   "codemirror_mode": {
    "name": "ipython",
    "version": 3
   },
   "file_extension": ".py",
   "mimetype": "text/x-python",
   "name": "python",
   "nbconvert_exporter": "python",
   "pygments_lexer": "ipython3",
   "version": "3.10.12"
  }
 },
 "nbformat": 4,
 "nbformat_minor": 2
}
